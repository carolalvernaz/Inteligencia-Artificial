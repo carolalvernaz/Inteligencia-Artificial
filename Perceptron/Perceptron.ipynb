{
  "nbformat": 4,
  "nbformat_minor": 0,
  "metadata": {
    "colab": {
      "provenance": []
    },
    "kernelspec": {
      "name": "python3",
      "display_name": "Python 3"
    },
    "language_info": {
      "name": "python"
    }
  },
  "cells": [
    {
      "cell_type": "code",
      "execution_count": null,
      "metadata": {
        "colab": {
          "base_uri": "https://localhost:8080/"
        },
        "id": "-EZgLlCFRqsQ",
        "outputId": "390a5d2c-2a31-4549-832a-998d9d4e6691"
      },
      "outputs": [
        {
          "output_type": "stream",
          "name": "stdout",
          "text": [
            "Digite a função lógica (AND ou OR): AND\n",
            "Digite o número de entradas booleanas (ex: 2, 3, 10): 4\n",
            "\n",
            "Resultados finais:\n",
            "Entrada: [0 0 0 0], Esperado: 0, Previsto: 0\n",
            "Entrada: [0 0 0 1], Esperado: 0, Previsto: 0\n",
            "Entrada: [0 0 1 0], Esperado: 0, Previsto: 0\n",
            "Entrada: [0 0 1 1], Esperado: 0, Previsto: 0\n",
            "Entrada: [0 1 0 0], Esperado: 0, Previsto: 0\n",
            "Entrada: [0 1 0 1], Esperado: 0, Previsto: 0\n",
            "Entrada: [0 1 1 0], Esperado: 0, Previsto: 0\n",
            "Entrada: [0 1 1 1], Esperado: 0, Previsto: 0\n",
            "Entrada: [1 0 0 0], Esperado: 0, Previsto: 0\n",
            "Entrada: [1 0 0 1], Esperado: 0, Previsto: 0\n",
            "Entrada: [1 0 1 0], Esperado: 0, Previsto: 0\n",
            "Entrada: [1 0 1 1], Esperado: 0, Previsto: 0\n",
            "Entrada: [1 1 0 0], Esperado: 0, Previsto: 0\n",
            "Entrada: [1 1 0 1], Esperado: 0, Previsto: 0\n",
            "Entrada: [1 1 1 0], Esperado: 0, Previsto: 0\n",
            "Entrada: [1 1 1 1], Esperado: 1, Previsto: 1\n"
          ]
        }
      ],
      "source": [
        "import numpy as np\n",
        "import matplotlib.pyplot as plt\n",
        "from itertools import product\n",
        "\n",
        "class Perceptron:\n",
        "    def __init__(self, n_inputs, learning_rate=0.5, max_epochs=100):\n",
        "        self.n_inputs = n_inputs\n",
        "        self.learning_rate = learning_rate\n",
        "        self.max_epochs = max_epochs\n",
        "        self.weights = np.zeros(n_inputs + 1)\n",
        "\n",
        "    def activation_function(self, u):\n",
        "        return 1 if u >= 0 else 0\n",
        "\n",
        "    def predict(self, x):\n",
        "        x_aug = np.insert(x, 0, 1)\n",
        "        u = np.dot(self.weights, x_aug)\n",
        "        return self.activation_function(u)\n",
        "\n",
        "    def train(self, X, y):\n",
        "        for epoch in range(self.max_epochs):\n",
        "            error_occurred = False\n",
        "            for xi, di in zip(X, y):\n",
        "                xi_aug = np.insert(xi, 0, 1)\n",
        "                yi = self.predict(xi)\n",
        "                error = di - yi\n",
        "                if error != 0:\n",
        "                    self.weights += self.learning_rate * error * xi_aug\n",
        "                    error_occurred = True\n",
        "            if self.n_inputs == 2:\n",
        "                self.plot_decision_boundary(X, y, epoch)\n",
        "            if not error_occurred:\n",
        "                break\n",
        "\n",
        "    def plot_decision_boundary(self, X, y, epoch):\n",
        "        plt.figure()\n",
        "        for xi, target in zip(X, y):\n",
        "            if target == 1:\n",
        "                plt.plot(xi[0], xi[1], 'bo')\n",
        "            else:\n",
        "                plt.plot(xi[0], xi[1], 'rx')\n",
        "\n",
        "        x_vals = np.array(plt.gca().get_xlim())\n",
        "        if self.weights[2] != 0:\n",
        "            y_vals = -(self.weights[1] * x_vals + self.weights[0]) / self.weights[2]\n",
        "            plt.plot(x_vals, y_vals, 'k--')\n",
        "        plt.title(f\"Época {epoch + 1}\")\n",
        "        plt.grid(True)\n",
        "        plt.show()\n",
        "\n",
        "\n",
        "def generate_logical_data(n, logic_function):\n",
        "    X = np.array(list(product([0, 1], repeat=n)))\n",
        "    if logic_function == 'AND':\n",
        "        y = np.array([int(np.all(xi)) for xi in X])\n",
        "    elif logic_function == 'OR':\n",
        "        y = np.array([int(np.any(xi)) for xi in X])\n",
        "    else:\n",
        "        raise ValueError(\"Função lógica inválida. Use AND ou OR.\")\n",
        "    return X, y\n",
        "\n",
        "\n",
        "def main():\n",
        "    logic_function = input(\"Digite a função lógica (AND ou OR): \").strip().upper()\n",
        "    n = int(input(\"Digite o número de entradas booleanas (ex: 2, 3, 10): \"))\n",
        "\n",
        "    X, y = generate_logical_data(n, logic_function)\n",
        "    perceptron = Perceptron(n_inputs=n)\n",
        "    perceptron.train(X, y)\n",
        "\n",
        "    print(\"\\nResultados finais:\")\n",
        "    for xi, di in zip(X, y):\n",
        "        yi = perceptron.predict(xi)\n",
        "        print(f\"Entrada: {xi}, Esperado: {di}, Previsto: {yi}\")\n",
        "\n",
        "\n",
        "if __name__ == '__main__':\n",
        "    main()"
      ]
    }
  ]
}